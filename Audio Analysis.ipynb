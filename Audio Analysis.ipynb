{
 "cells": [
  {
   "cell_type": "markdown",
   "id": "5e94c882",
   "metadata": {},
   "source": [
    "## Audio Signal Parameters\n",
    "- number of channels\n",
    "- sample width\n",
    "- framerate\n",
    "- frames\n",
    "- frame values, in binary"
   ]
  },
  {
   "cell_type": "code",
   "execution_count": 55,
   "id": "1a1c5251",
   "metadata": {},
   "outputs": [],
   "source": [
    "import wave\n",
    "\n",
    "obj = wave.open(\"./samples/kitten.wav\", \"rb\")"
   ]
  },
  {
   "cell_type": "code",
   "execution_count": 56,
   "id": "143e05ec",
   "metadata": {},
   "outputs": [
    {
     "data": {
      "text/plain": [
       "'/Users/jfuentes/Projects/Quick-Scripts'"
      ]
     },
     "execution_count": 56,
     "metadata": {},
     "output_type": "execute_result"
    }
   ],
   "source": [
    "import os\n",
    "os.getcwd() "
   ]
  },
  {
   "cell_type": "code",
   "execution_count": 57,
   "id": "ca890fff",
   "metadata": {},
   "outputs": [
    {
     "name": "stdout",
     "output_type": "stream",
     "text": [
      "Number of channels 1\n",
      "Sample Width 1\n",
      "frame rate 22050\n",
      "Number of frames 286272\n",
      "Audio time 12.982857142857142\n",
      "Frames <class 'bytes'> 286272\n",
      "All params _wave_params(nchannels=1, sampwidth=1, framerate=22050, nframes=286272, comptype='NONE', compname='not compressed')\n"
     ]
    }
   ],
   "source": [
    "print(\"Number of channels\", obj.getnchannels())\n",
    "print(\"Sample Width\", obj.getsampwidth())\n",
    "print(\"frame rate\", obj.getframerate())\n",
    "print(\"Number of frames\", obj.getnframes())\n",
    "t_audio = obj.getnframes() / obj.getframerate()\n",
    "print(\"Audio time\", t_audio)\n",
    "frames = obj.readframes(-1)\n",
    "print(\"Frames\", type(frames), len(frames))\n",
    "print(\"All params\", obj.getparams())"
   ]
  },
  {
   "cell_type": "code",
   "execution_count": 62,
   "id": "9158bde1",
   "metadata": {},
   "outputs": [
    {
     "name": "stdout",
     "output_type": "stream",
     "text": [
      "12.982857142857142\n",
      "[-128 -128 -128 ... -128 -128 -128]\n",
      "286272\n",
      "286272\n"
     ]
    },
    {
     "data": {
      "image/png": "[encoded data removed]",
      "text/plain": [
       "<Figure size 1500x500 with 1 Axes>"
      ]
     },
     "metadata": {},
     "output_type": "display_data"
    }
   ],
   "source": [
    "import matplotlib.pyplot as plt\n",
    "import numpy as np\n",
    "import wave\n",
    "\n",
    "#np.int8 is important\n",
    "signal_array = np.frombuffer(frames, dtype=np.int8)\n",
    "times = np.linspace(0, t_audio, num=obj.getnframes())\n",
    "print(t_audio)\n",
    "print(signal_array)\n",
    "print(len(signal_array))\n",
    "print(len(times))\n",
    "plt.figure(figsize=(15,5))\n",
    "plt.plot(times, signal_array)\n",
    "plt.title(\"Audio Signal\")\n",
    "plt.ylabel(\"Signal\")\n",
    "plt.xlabel(\"Time (s)\")\n",
    "plt.xlim(0, t_audio)\n",
    "plt.show()"
   ]
  },
  {
   "cell_type": "code",
   "execution_count": null,
   "id": "03f3e9d6",
   "metadata": {},
   "outputs": [],
   "source": []
  },
  {
   "cell_type": "code",
   "execution_count": 31,
   "id": "287b72fc",
   "metadata": {},
   "outputs": [],
   "source": [
    "prompt = \"bad, ugly, overexposed, low contrast, cut off, tiling, watermark blurry, deformed, weird colors, mutated color, muted color, fused, less detail, lowres, out of frame, worst quality, low quality, normal quality, displaced object, close up, cartoon, 3d, (disfigured), (deformed), (poorly drawn), (extra limbs), blurry, boring, sketch, lackluster, signature, letters, low res , horrific , mutated , artifacts , bad art , gross , b&w , cropped\""
   ]
  },
  {
   "cell_type": "code",
   "execution_count": null,
   "id": "ddd3b91a",
   "metadata": {},
   "outputs": [],
   "source": []
  },
  {
   "cell_type": "code",
   "execution_count": null,
   "id": "f2ec0809",
   "metadata": {},
   "outputs": [],
   "source": []
  },
  {
   "cell_type": "code",
   "execution_count": null,
   "id": "4e90f330",
   "metadata": {},
   "outputs": [],
   "source": []
  },
  {
   "cell_type": "code",
   "execution_count": null,
   "id": "1713c8c7",
   "metadata": {},
   "outputs": [],
   "source": []
  }
 ],
 "metadata": {
  "kernelspec": {
   "display_name": "Python 3 (ipykernel)",
   "language": "python",
   "name": "python3"
  },
  "language_info": {
   "codemirror_mode": {
    "name": "ipython",
    "version": 3
   },
   "file_extension": ".py",
   "mimetype": "text/x-python",
   "name": "python",
   "nbconvert_exporter": "python",
   "pygments_lexer": "ipython3",
   "version": "3.9.16"
  }
 },
 "nbformat": 4,
 "nbformat_minor": 5
}
